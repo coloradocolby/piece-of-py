{
 "cells": [
  {
   "cell_type": "code",
   "execution_count": 41,
   "metadata": {},
   "outputs": [],
   "source": [
    "def factorial(n, mem = {}):\n",
    "    if n < 0: \n",
    "        print(\"n must >= 0\")\n",
    "    elif n in mem:\n",
    "        return mem[n]\n",
    "    elif n is 0:\n",
    "        mem[n] = 1\n",
    "        return mem[n]\n",
    "    else:\n",
    "        mem[n] = n * factorial(n-1, mem) \n",
    "        return mem[n]\n",
    "        "
   ]
  },
  {
   "cell_type": "code",
   "execution_count": 42,
   "metadata": {},
   "outputs": [
    {
     "name": "stdout",
     "output_type": "stream",
     "text": [
      "Enter n: 30\n",
      "265252859812191058636308480000000\n"
     ]
    }
   ],
   "source": [
    "try:\n",
    "    user_input = input(\"Enter n: \")\n",
    "    n = int(user_input)\n",
    "    ans = factorial(n)\n",
    "    print(ans)\n",
    "except ValueError:\n",
    "    print(\"you must enter a number\")\n"
   ]
  }
 ],
 "metadata": {
  "kernelspec": {
   "display_name": "Python 3",
   "language": "python",
   "name": "python3"
  },
  "language_info": {
   "codemirror_mode": {
    "name": "ipython",
    "version": 3
   },
   "file_extension": ".py",
   "mimetype": "text/x-python",
   "name": "python",
   "nbconvert_exporter": "python",
   "pygments_lexer": "ipython3",
   "version": "3.7.4"
  }
 },
 "nbformat": 4,
 "nbformat_minor": 2
}
