{
 "cells": [
  {
   "cell_type": "code",
   "execution_count": 99,
   "metadata": {},
   "outputs": [],
   "source": [
    "def selection_sort(arr):\n",
    "    currentIdx = 0\n",
    "    while currentIdx < len(arr) - 1:\n",
    "        smallestIdx = currentIdx\n",
    "        for i in range(currentIdx + 1, len(arr)):\n",
    "            if arr[i] < arr[smallestIdx]:\n",
    "                arr[i], arr[smallestIdx] = arr[smallestIdx], arr[i]\n",
    "        currentIdx += 1"
   ]
  },
  {
   "cell_type": "code",
   "execution_count": 100,
   "metadata": {},
   "outputs": [],
   "source": [
    "arr = [4,8,7,1,3,5,0,6,9,2]"
   ]
  },
  {
   "cell_type": "code",
   "execution_count": 101,
   "metadata": {},
   "outputs": [],
   "source": [
    "selection_sort(arr)"
   ]
  },
  {
   "cell_type": "code",
   "execution_count": 102,
   "metadata": {},
   "outputs": [
    {
     "data": {
      "text/plain": [
       "[0, 1, 2, 3, 4, 5, 6, 7, 8, 9]"
      ]
     },
     "execution_count": 102,
     "metadata": {},
     "output_type": "execute_result"
    }
   ],
   "source": [
    "arr"
   ]
  },
  {
   "cell_type": "markdown",
   "metadata": {},
   "source": [
    "## Notes\n",
    "```\n",
    "while currentIdx < len(arr) - 1:\n",
    "```\n",
    "the reason we do a `- 1` here is because on the len(arr) - 1 iteration, if the last two were out of order they were swapped\n",
    "\n",
    "Also note how we don't do\n",
    "\n",
    "```\n",
    "for i in range(currentIdx + 1, len(arr) -1):\n",
    "```\n",
    "we only do that on bubblesort because we're searching for the element at index `i+1` in the array and trying to avoid an index out of bounds exception"
   ]
  }
 ],
 "metadata": {
  "kernelspec": {
   "display_name": "Python 3",
   "language": "python",
   "name": "python3"
  },
  "language_info": {
   "codemirror_mode": {
    "name": "ipython",
    "version": 3
   },
   "file_extension": ".py",
   "mimetype": "text/x-python",
   "name": "python",
   "nbconvert_exporter": "python",
   "pygments_lexer": "ipython3",
   "version": "3.6.9"
  }
 },
 "nbformat": 4,
 "nbformat_minor": 2
}
