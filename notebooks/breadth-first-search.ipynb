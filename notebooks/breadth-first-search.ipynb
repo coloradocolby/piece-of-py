{
 "cells": [
  {
   "cell_type": "code",
   "execution_count": 10,
   "metadata": {},
   "outputs": [],
   "source": [
    "class Node:\n",
    "    def __init__(self, value):\n",
    "        self.children = []\n",
    "        self.value = value\n",
    "\n",
    "    def add_child(self, value):\n",
    "        self.children.append(Node(value))\n",
    "        return self\n",
    "\n",
    "    def breadth_first_search(self, array):\n",
    "        queue = [self] # when first hit, self equals the root node\n",
    "        while len(queue) > 0:\n",
    "            currentNode = queue.pop(0)\n",
    "            array.append(currentNode.value)\n",
    "            for c in currentNode.children:\n",
    "                queue.append(c)\n",
    "        return array\n",
    "        \n"
   ]
  },
  {
   "cell_type": "code",
   "execution_count": 11,
   "metadata": {},
   "outputs": [
    {
     "name": "stdout",
     "output_type": "stream",
     "text": [
      "[1, 2, 3, 4, 20, 30, 40, 200, 300, 400, 2000, 3000, 4000]\n"
     ]
    }
   ],
   "source": [
    "root = Node(1)\n",
    "rchild1 = Node(2)\n",
    "rchild2 = Node(3)\n",
    "rchild3 = Node(4)\n",
    "root.children = [rchild1, rchild2, rchild3]\n",
    "\n",
    "rchild1child1 = Node(20)\n",
    "rchild1child2 = Node(30)\n",
    "rchild1child3 = Node(40)\n",
    "rchild1.children = [rchild1child1, rchild1child2, rchild1child3 ]\n",
    "\n",
    "rchild2child1 = Node(200)\n",
    "rchild2child2 = Node(300)\n",
    "rchild2child3 = Node(400)\n",
    "rchild2.children = [rchild2child1, rchild2child2, rchild2child3 ]\n",
    "\n",
    "\n",
    "rchild3child1 = Node(2000)\n",
    "rchild3child2 = Node(3000)\n",
    "rchild3child3 = Node(4000)\n",
    "rchild3.children = [rchild3child1, rchild3child2, rchild3child3 ]\n",
    "\n",
    "\n",
    "bfs_array = root.breadth_first_search([])\n",
    "print(bfs_array)"
   ]
  },
  {
   "cell_type": "code",
   "execution_count": null,
   "metadata": {},
   "outputs": [],
   "source": []
  }
 ],
 "metadata": {
  "kernelspec": {
   "display_name": "Python 3",
   "language": "python",
   "name": "python3"
  },
  "language_info": {
   "codemirror_mode": {
    "name": "ipython",
    "version": 3
   },
   "file_extension": ".py",
   "mimetype": "text/x-python",
   "name": "python",
   "nbconvert_exporter": "python",
   "pygments_lexer": "ipython3",
   "version": "3.7.3"
  }
 },
 "nbformat": 4,
 "nbformat_minor": 2
}
