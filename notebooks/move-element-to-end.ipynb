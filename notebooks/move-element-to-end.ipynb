{
 "cells": [
  {
   "cell_type": "code",
   "execution_count": 16,
   "metadata": {},
   "outputs": [],
   "source": [
    "def move_element_to_end(arr, toMove):\n",
    "    i = 0\n",
    "    j = len(arr) - 1\n",
    "    while i < j:\n",
    "        # this while is important because you want to move from right to left\n",
    "        # until your number is not toMove since you wouldn't want to swap a \n",
    "        # toMove elem\n",
    "        while i < j and arr[j] == toMove: \n",
    "            j-= 1\n",
    "        if arr[i] == toMove:\n",
    "            arr[i], arr[j] = arr[j], arr[i]\n",
    "        i += 1\n",
    "    return arr"
   ]
  },
  {
   "cell_type": "code",
   "execution_count": 17,
   "metadata": {},
   "outputs": [
    {
     "name": "stdout",
     "output_type": "stream",
     "text": [
      "[2, 3, 5, 3, 1, 7, 6, 4, 4, 4, 4, 4, 4]\n"
     ]
    }
   ],
   "source": [
    "arr = [4,3,5,4,1,4,6,7,4,3,2,4,4]\n",
    "ans = move_element_to_end(arr, 4)\n",
    "print(ans)"
   ]
  },
  {
   "cell_type": "code",
   "execution_count": null,
   "metadata": {},
   "outputs": [],
   "source": []
  }
 ],
 "metadata": {
  "kernelspec": {
   "display_name": "Python 3",
   "language": "python",
   "name": "python3"
  },
  "language_info": {
   "codemirror_mode": {
    "name": "ipython",
    "version": 3
   },
   "file_extension": ".py",
   "mimetype": "text/x-python",
   "name": "python",
   "nbconvert_exporter": "python",
   "pygments_lexer": "ipython3",
   "version": "3.7.4"
  }
 },
 "nbformat": 4,
 "nbformat_minor": 2
}
