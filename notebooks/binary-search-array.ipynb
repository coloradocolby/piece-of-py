{
 "cells": [
  {
   "cell_type": "raw",
   "metadata": {},
   "source": [
    "https://www.algoexpert.io/questions/Binary%20Search"
   ]
  },
  {
   "cell_type": "code",
   "execution_count": 83,
   "metadata": {},
   "outputs": [],
   "source": [
    "def binary_search(arr, target):\n",
    "    return binary_search_helper(arr, target, 0, len(arr) -1)\n",
    "\n",
    "def binary_search_helper(arr, target, left, right):\n",
    "    if left > right:\n",
    "        return -1\n",
    "    middle = (left + right) // 2 # the index we compare to target\n",
    "    if arr[middle] == target:\n",
    "        return middle\n",
    "    elif arr[middle] < target:\n",
    "        return binary_search_helper(arr, target, middle + 1, right)\n",
    "    elif arr[middle] > target:\n",
    "        return binary_search_helper(arr, target, left, middle - 1)\n",
    "    "
   ]
  },
  {
   "cell_type": "code",
   "execution_count": 82,
   "metadata": {},
   "outputs": [
    {
     "name": "stdout",
     "output_type": "stream",
     "text": [
      "left 0 right 2\n",
      "left 2 right 2\n",
      "left 3 right 2\n",
      "-1\n"
     ]
    }
   ],
   "source": [
    "print(binary_search([1,2,3], 5))"
   ]
  },
  {
   "cell_type": "code",
   "execution_count": null,
   "metadata": {},
   "outputs": [],
   "source": []
  },
  {
   "cell_type": "code",
   "execution_count": null,
   "metadata": {},
   "outputs": [],
   "source": []
  }
 ],
 "metadata": {
  "kernelspec": {
   "display_name": "Python 3",
   "language": "python",
   "name": "python3"
  },
  "language_info": {
   "codemirror_mode": {
    "name": "ipython",
    "version": 3
   },
   "file_extension": ".py",
   "mimetype": "text/x-python",
   "name": "python",
   "nbconvert_exporter": "python",
   "pygments_lexer": "ipython3",
   "version": "3.7.4"
  }
 },
 "nbformat": 4,
 "nbformat_minor": 2
}
