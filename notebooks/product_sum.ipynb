{
 "cells": [
  {
   "cell_type": "raw",
   "metadata": {},
   "source": [
    "https://www.algoexpert.io/questions/Product%20Sum\n",
    "\n",
    "Basically: \n",
    "[1,2,3,[4,5,[6,7]]] \n",
    "...translates to...\n",
    "1 + 2 + 3 + 2*(4 + 5 + 3*(6 + 7)) = 102"
   ]
  },
  {
   "cell_type": "code",
   "execution_count": 11,
   "metadata": {},
   "outputs": [],
   "source": [
    "def product_sum(arr, multiplier = 1, sum = 0):\n",
    "    for x in arr:\n",
    "        if type(x) == list:\n",
    "            sum += product_sum(x, multiplier + 1)\n",
    "        else:\n",
    "            sum += x\n",
    "    return sum * multiplier\n",
    "    "
   ]
  },
  {
   "cell_type": "code",
   "execution_count": 12,
   "metadata": {},
   "outputs": [
    {
     "name": "stdout",
     "output_type": "stream",
     "text": [
      "102\n"
     ]
    }
   ],
   "source": [
    "arr =[1,2,3,[4,5,[6,7]]]\n",
    "ans = product_sum(arr)\n",
    "print(ans)"
   ]
  },
  {
   "cell_type": "code",
   "execution_count": null,
   "metadata": {},
   "outputs": [],
   "source": []
  }
 ],
 "metadata": {
  "kernelspec": {
   "display_name": "Python 3",
   "language": "python",
   "name": "python3"
  },
  "language_info": {
   "codemirror_mode": {
    "name": "ipython",
    "version": 3
   },
   "file_extension": ".py",
   "mimetype": "text/x-python",
   "name": "python",
   "nbconvert_exporter": "python",
   "pygments_lexer": "ipython3",
   "version": "3.7.4"
  }
 },
 "nbformat": 4,
 "nbformat_minor": 2
}
