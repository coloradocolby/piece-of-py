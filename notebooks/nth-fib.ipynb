{
 "cells": [
  {
   "cell_type": "code",
   "execution_count": 1,
   "metadata": {},
   "outputs": [],
   "source": [
    "def nth_fib(n, mem = {}):\n",
    "    if n < 0:\n",
    "        print(\"n must be >= 0\")\n",
    "    elif n in mem:\n",
    "        return mem[n]\n",
    "    elif n < 2:\n",
    "        mem[n] = n\n",
    "        return n\n",
    "    else:\n",
    "        mem[n] = nth_fib(n-1, mem) + nth_fib(n-2, mem)\n",
    "        return mem[n]"
   ]
  },
  {
   "cell_type": "code",
   "execution_count": 2,
   "metadata": {},
   "outputs": [
    {
     "name": "stdout",
     "output_type": "stream",
     "text": [
      "Enter n: 44\n",
      "701408733\n"
     ]
    }
   ],
   "source": [
    "user_input = input(\"Enter n: \")\n",
    "n = int(user_input)\n",
    "ans = nth_fib(n);\n",
    "print(ans)"
   ]
  },
  {
   "cell_type": "code",
   "execution_count": null,
   "metadata": {},
   "outputs": [],
   "source": []
  }
 ],
 "metadata": {
  "kernelspec": {
   "display_name": "Python 3",
   "language": "python",
   "name": "python3"
  },
  "language_info": {
   "codemirror_mode": {
    "name": "ipython",
    "version": 3
   },
   "file_extension": ".py",
   "mimetype": "text/x-python",
   "name": "python",
   "nbconvert_exporter": "python",
   "pygments_lexer": "ipython3",
   "version": "3.7.3"
  }
 },
 "nbformat": 4,
 "nbformat_minor": 2
}
