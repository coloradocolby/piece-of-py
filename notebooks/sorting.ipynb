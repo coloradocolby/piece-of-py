{
 "cells": [
  {
   "cell_type": "code",
   "execution_count": 85,
   "metadata": {},
   "outputs": [],
   "source": [
    "def bubble_sort(arr):\n",
    "    counter = 0\n",
    "    isSorted = False\n",
    "    while not isSorted:\n",
    "        isSorted = True\n",
    "        for i in range(len(arr) - 1 - counter):\n",
    "            if arr[i] > arr[i + 1]:\n",
    "                swap(arr, i, i + 1)\n",
    "                isSorted = False\n",
    "        counter += 1\n",
    "\n",
    "def selection_sort(arr):\n",
    "    currentIdx = 0\n",
    "    while(currentIdx < len(arr) -1):\n",
    "        indexOfMin = currentIdx\n",
    "        for i in range(currentIdx, len(arr)):\n",
    "                if arr[i] < arr[indexOfMin]:\n",
    "                    indexOfMin = i\n",
    "        swap(arr, currentIdx, indexOfMin)\n",
    "        currentIdx += 1\n",
    "\n",
    "def insertion_sort(arr):\n",
    "    for i in range(1, len(arr)):\n",
    "        j = i\n",
    "        while(j > 0 and arr[j] < arr[j-1]):\n",
    "            swap(arr, j, j-1)\n",
    "            j -= 1\n",
    "        \n",
    "def swap(arr, i, j):\n",
    "    arr[i], arr[j] = arr[j], arr[i]"
   ]
  },
  {
   "cell_type": "code",
   "execution_count": 86,
   "metadata": {},
   "outputs": [
    {
     "name": "stdout",
     "output_type": "stream",
     "text": [
      "BUBBLE SORT\n",
      "[9, 1, 6, 3, 2, 8, 5, 0, 7, 4]\n",
      "[0, 1, 2, 3, 4, 5, 6, 7, 8, 9]\n"
     ]
    }
   ],
   "source": [
    "print(\"BUBBLE SORT\")\n",
    "arr = [9,1,6,3,2,8,5,0,7,4,]\n",
    "print(arr)\n",
    "bubble_sort(arr)\n",
    "print(arr)\n"
   ]
  },
  {
   "cell_type": "code",
   "execution_count": 87,
   "metadata": {},
   "outputs": [
    {
     "name": "stdout",
     "output_type": "stream",
     "text": [
      "SELECTION SORT\n",
      "[9, 1, 6, 3, 2, 8, 5, 0, 7, 4]\n",
      "[0, 1, 2, 3, 4, 5, 6, 7, 8, 9]\n"
     ]
    }
   ],
   "source": [
    "print(\"SELECTION SORT\")\n",
    "arr = [9,1,6,3,2,8,5,0,7,4,]\n",
    "print(arr)\n",
    "selection_sort(arr)\n",
    "print(arr)"
   ]
  },
  {
   "cell_type": "code",
   "execution_count": 88,
   "metadata": {},
   "outputs": [
    {
     "name": "stdout",
     "output_type": "stream",
     "text": [
      "INSERTION SORT\n",
      "[9, 1, 6, 3, 2, 8, 5, 0, 7, 4]\n",
      "[0, 1, 2, 3, 4, 5, 6, 7, 8, 9]\n"
     ]
    }
   ],
   "source": [
    "print(\"INSERTION SORT\")\n",
    "arr = [9,1,6,3,2,8,5,0,7,4,]\n",
    "print(arr)\n",
    "insertion_sort(arr)\n",
    "print(arr)"
   ]
  },
  {
   "cell_type": "markdown",
   "metadata": {},
   "source": [
    "https://www.draw.io/#G1DqTGRWmRSbMO3F0oMXfRaj-H0Win40dX\n",
    "\n",
    "use this link to help visualize sorting"
   ]
  }
 ],
 "metadata": {
  "kernelspec": {
   "display_name": "Python 3",
   "language": "python",
   "name": "python3"
  },
  "language_info": {
   "codemirror_mode": {
    "name": "ipython",
    "version": 3
   },
   "file_extension": ".py",
   "mimetype": "text/x-python",
   "name": "python",
   "nbconvert_exporter": "python",
   "pygments_lexer": "ipython3",
   "version": "3.6.9"
  }
 },
 "nbformat": 4,
 "nbformat_minor": 2
}
