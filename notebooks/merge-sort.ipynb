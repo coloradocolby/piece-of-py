{
 "cells": [
  {
   "cell_type": "code",
   "execution_count": 86,
   "metadata": {},
   "outputs": [],
   "source": [
    "def merge_sort(arr):\n",
    "    if(len(arr) == 1):\n",
    "        return arr\n",
    "\n",
    "    middle = len(arr) // 2\n",
    "    left = arr[:middle]\n",
    "    right = arr[middle:]\n",
    "    \n",
    "    return merge(merge_sort(left), merge_sort(right))\n",
    "\n",
    "def merge(left, right):\n",
    "    results = []\n",
    "    while(len(left) and len(right)):\n",
    "        if left[0] <= right[0]:\n",
    "            results.append(left.pop(0))\n",
    "        elif right[0] < left[0]:\n",
    "            results.append(right.pop(0))\n",
    "\n",
    "    results = results + left + right\n",
    "    return results"
   ]
  },
  {
   "cell_type": "code",
   "execution_count": 90,
   "metadata": {},
   "outputs": [
    {
     "data": {
      "text/plain": [
       "[0, 1, 2, 3, 4, 5, 6, 7, 8, 9]"
      ]
     },
     "execution_count": 90,
     "metadata": {},
     "output_type": "execute_result"
    }
   ],
   "source": [
    "arr = merge_sort([5,1,2,7,4,3,9,8,6,0])\n",
    "arr"
   ]
  },
  {
   "cell_type": "code",
   "execution_count": 93,
   "metadata": {},
   "outputs": [],
   "source": [
    "foo = []\n",
    "foo.append(3)\n",
    "foo.append(4)\n",
    "foo.append(1)"
   ]
  },
  {
   "cell_type": "code",
   "execution_count": 94,
   "metadata": {},
   "outputs": [
    {
     "data": {
      "text/plain": [
       "[3, 4, 1]"
      ]
     },
     "execution_count": 94,
     "metadata": {},
     "output_type": "execute_result"
    }
   ],
   "source": [
    "foo"
   ]
  },
  {
   "cell_type": "code",
   "execution_count": null,
   "metadata": {},
   "outputs": [],
   "source": []
  }
 ],
 "metadata": {
  "kernelspec": {
   "display_name": "Python 3",
   "language": "python",
   "name": "python3"
  },
  "language_info": {
   "codemirror_mode": {
    "name": "ipython",
    "version": 3
   },
   "file_extension": ".py",
   "mimetype": "text/x-python",
   "name": "python",
   "nbconvert_exporter": "python",
   "pygments_lexer": "ipython3",
   "version": "3.6.9"
  }
 },
 "nbformat": 4,
 "nbformat_minor": 2
}
