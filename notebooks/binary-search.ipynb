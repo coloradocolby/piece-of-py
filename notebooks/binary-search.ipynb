{
 "cells": [
  {
   "cell_type": "code",
   "execution_count": 1,
   "metadata": {},
   "outputs": [],
   "source": [
    "def binary_search(arr, target):\n",
    "    return binary_search_helper(arr, target, 0, len(arr) - 1)\n",
    "    \n",
    "def binary_search_helper(arr, target, left, right):\n",
    "    if left > right:\n",
    "        return - 1\n",
    "    middle = right + left // 2\n",
    "    potentialMatch = arr[middle]\n",
    "    if target == potentialMatch:\n",
    "        return middle\n",
    "    if target < potentialMatch:\n",
    "        return binary_search_helper(arr, target, left, middle - 1)\n",
    "    if target > potentialMatch:\n",
    "        return binary_search_helper(arr, target, middle + 1, right)\n",
    "    "
   ]
  },
  {
   "cell_type": "code",
   "execution_count": 2,
   "metadata": {},
   "outputs": [
    {
     "data": {
      "text/plain": [
       "5"
      ]
     },
     "execution_count": 2,
     "metadata": {},
     "output_type": "execute_result"
    }
   ],
   "source": [
    "binary_search([1,13,22,34,48,52,65,89], 52)"
   ]
  },
  {
   "cell_type": "code",
   "execution_count": null,
   "metadata": {},
   "outputs": [],
   "source": []
  }
 ],
 "metadata": {
  "kernelspec": {
   "display_name": "Python 3",
   "language": "python",
   "name": "python3"
  },
  "language_info": {
   "codemirror_mode": {
    "name": "ipython",
    "version": 3
   },
   "file_extension": ".py",
   "mimetype": "text/x-python",
   "name": "python",
   "nbconvert_exporter": "python",
   "pygments_lexer": "ipython3",
   "version": "3.6.9"
  }
 },
 "nbformat": 4,
 "nbformat_minor": 2
}
